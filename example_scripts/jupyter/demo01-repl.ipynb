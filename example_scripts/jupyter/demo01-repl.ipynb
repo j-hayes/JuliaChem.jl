{
 "cells": [
  {
   "cell_type": "markdown",
   "source": [
    "The first step of running JuliaChem.jl is importing the JuliaChem module. As the JuliaChem.jl package is not yet registered, this will require either downloading JuliaChem.jl locally, or adding the JuliaChem.jl GitHub repository to Pkg."
   ],
   "metadata": {}
  },
  {
   "cell_type": "code",
   "execution_count": 1,
   "source": [
    "import JuliaChem"
   ],
   "outputs": [],
   "metadata": {}
  },
  {
   "cell_type": "markdown",
   "source": [
    "The next step in running JuliaChem.jl is to initialize the JuliaChem.jl runtime. The JuliaChem.jl runtime is rather small, and consists entirely of the runtimes of underlying dependencies - MPI and Libint."
   ],
   "metadata": {}
  },
  {
   "cell_type": "code",
   "execution_count": 2,
   "source": [
    "JuliaChem.initialize()"
   ],
   "outputs": [],
   "metadata": {}
  },
  {
   "cell_type": "markdown",
   "source": [
    "The third step in running JuliaChem.jl is processing input data. The input data can be divided into four parts - molecule data, driver data, general calculation data, and method keywords. These four parts are inspired by the QCSchema input scheme proposed by the Molecular Software Sciences Institute (MolSSI). More information about QCSchema can be seen at https://molssi-qc-schema.readthedocs.io/en/latest/.\n",
    "\n",
    "The first facet of the input data is molecule data. The molecule data object is a dictionary which contains information about the geometric coordinates of the system, the atomic symbols of the atoms contained within the system, and the charge of the system."
   ],
   "metadata": {}
  },
  {
   "cell_type": "code",
   "execution_count": 3,
   "source": [
    " molecule = Dict(\n",
    "    \"geometry\" => Vector{Float64}(\n",
    "        [6.411074, 6.98113527, 7.50153528, \n",
    "         8.58890491, 6.98113661, 7.50155471, \n",
    "         7.49999228, 8.99273439, 7.50048164,\n",
    "         5.12657866, 7.67324656, 7.50050593,\n",
    "         9.87339214, 7.67326459, 7.50052055, \n",
    "         4.03436324, 6.62280412, 7.50050212, \n",
    "         10.96562395, 6.622837, 7.50057313, \n",
    "         7.49998869, 7.78034564, 7.50103519, \n",
    "         5.07458205, 8.31139671, 8.38483323, \n",
    "         5.07545663, 8.31036431, 6.61534488, \n",
    "         9.92452108, 8.31035589, 6.61534048, \n",
    "         9.92536586, 8.31145461, 8.38481702, \n",
    "         3.06384833, 7.12321056, 7.49968166, \n",
    "         4.09226473, 5.9907205, 6.61268538, \n",
    "         4.09139631, 5.9916493, 8.38903225, \n",
    "         11.93614728, 7.12323036, 7.49976917, \n",
    "         10.90856595, 5.99169283, 8.38910716, \n",
    "         10.90774268, 5.99073288, 6.61276896]\n",
    "        ),\n",
    "    \"symbols\" => Vector{String}([\"O\", \"O\", \"O\", \"C\", \"C\", \"C\", \"C\", \"C\", \"H\", \"H\", \"H\", \"H\", \"H\", \"H\", \"H\", \"H\", \"H\", \"H\"]),\n",
    "    \"molecular_charge\" => zero(Int64)\n",
    ")"
   ],
   "outputs": [
    {
     "output_type": "execute_result",
     "data": {
      "text/plain": [
       "Dict{String, Any} with 3 entries:\n",
       "  \"symbols\"          => [\"O\", \"O\", \"O\", \"C\", \"C\", \"C\", \"C\", \"C\", \"H\", \"H\", \"H\",…\n",
       "  \"molecular_charge\" => 0\n",
       "  \"geometry\"         => [6.41107, 6.98114, 7.50154, 8.5889, 6.98114, 7.50155, 7…"
      ]
     },
     "metadata": {},
     "execution_count": 3
    }
   ],
   "metadata": {}
  },
  {
   "cell_type": "markdown",
   "source": [
    "Molecule information contained in an xyz file can be read in and processed automatically.\n"
   ],
   "metadata": {}
  },
  {
   "cell_type": "code",
   "execution_count": 4,
   "source": [
    "molecule = JuliaChem.JCInput.xyz_to_molecule(\"C5H10O3.xyz\")"
   ],
   "outputs": [
    {
     "output_type": "execute_result",
     "data": {
      "text/plain": [
       "Dict{String, Any} with 3 entries:\n",
       "  \"symbols\"          => Any[\"O\", \"O\", \"O\", \"C\", \"C\", \"C\", \"C\", \"C\", \"H\", \"H\", \"…\n",
       "  \"molecular_charge\" => 0\n",
       "  \"geometry\"         => Any[6.41107, 6.98114, 7.50154, 8.5889, 6.98114, 7.50155…"
      ]
     },
     "metadata": {},
     "execution_count": 4
    }
   ],
   "metadata": {}
  },
  {
   "cell_type": "markdown",
   "source": [
    "The second facet of the input data is driver data. The driver data object is a String that dictates what type of calculation is performed. This is included for completeness with respect to the QCSchema, but it is not strictly necessary currently."
   ],
   "metadata": {}
  },
  {
   "cell_type": "code",
   "execution_count": 5,
   "source": [
    "driver = \"energy\""
   ],
   "outputs": [
    {
     "output_type": "execute_result",
     "data": {
      "text/plain": [
       "\"energy\""
      ]
     },
     "metadata": {},
     "execution_count": 5
    }
   ],
   "metadata": {}
  },
  {
   "cell_type": "markdown",
   "source": [
    "The third facet of the input data is general calculation data. The calculation data object is a dictionary that contains information about the specific method used for the calculation, and the basis set chosen for the calculation.\n",
    "\n",
    "Currently, only the Restricted Hartree-Fock (RHF) method is supported as a method. As for basis sets, a reasonable number of Pople basis sets are supported, going up to Pople basis sets with f-shell inclusion. "
   ],
   "metadata": {}
  },
  {
   "cell_type": "code",
   "execution_count": 6,
   "source": [
    "model = Dict(\n",
    "  \"method\" => \"RHF\",\n",
    "  \"basis\" => \"6-31+G*\"\n",
    ")"
   ],
   "outputs": [
    {
     "output_type": "execute_result",
     "data": {
      "text/plain": [
       "Dict{String, String} with 2 entries:\n",
       "  \"method\" => \"RHF\"\n",
       "  \"basis\"  => \"6-31+G*\""
      ]
     },
     "metadata": {},
     "execution_count": 6
    }
   ],
   "metadata": {}
  },
  {
   "cell_type": "markdown",
   "source": [
    "The final facet of the input data is the calculation keywords. The calculation keywords object is a dictionary that contains releavnt keywords controlling specifics of each step of the calculation. \n",
    "\n",
    "Keywords pertaining to the calculation of RHF energies are contained in the \"scf\" subgroup. Keywords pertaining to the computation of RHF molecular properties are contained in the \"prop\" subgroup. Not specifying a specific keyword automatically uses the default value for that keyword."
   ],
   "metadata": {}
  },
  {
   "cell_type": "code",
   "execution_count": 7,
   "source": [
    "keywords = Dict(\n",
    "  \"scf\" => Dict(),\n",
    "  \"prop\" => Dict(\n",
    "    \"formation\" => true,\n",
    "    \"mo energies\" => true,\n",
    "    \"mulliken\" => true,\n",
    "    \"multipole\" => \"dipole\"\n",
    "  )\n",
    ")"
   ],
   "outputs": [
    {
     "output_type": "execute_result",
     "data": {
      "text/plain": [
       "Dict{String, Dict{K, Any} where K} with 2 entries:\n",
       "  \"prop\" => Dict{String, Any}(\"mulliken\"=>true, \"formation\"=>true, \"multipole\"=…\n",
       "  \"scf\"  => Dict{Any, Any}()"
      ]
     },
     "metadata": {},
     "execution_count": 7
    }
   ],
   "metadata": {}
  },
  {
   "cell_type": "markdown",
   "source": [
    "The fourth step of running JuliaChem.jl is processing the input information to create basis set and molecule objects. These basis set and molecule objects are heavily used throughout the calculations that JuliaChem.jl performs. The basis set object contains information about the basis set shells, such as exponents and contraction coefficients, acquired from the Basis Set Exchange project created by MolSSI. This information is palatable to both JuliaChem.jl and the underlying Libint interface. The molecule object contains information about the coordinates and atoms within the system, also palatable to both JuliaChem.jl and the underlying Libint interface. \n",
    "\n",
    "This step requires the molecule and model dictionary input objects defined earlier as inputs. Additionally, an optional keyword input controlling the verbosity of the output can be input. By default, no output text is generated. "
   ],
   "metadata": {}
  },
  {
   "cell_type": "code",
   "execution_count": 8,
   "source": [
    "mol, basis = JuliaChem.JCBasis.run(molecule, model; output=0)"
   ],
   "outputs": [
    {
     "output_type": "execute_result",
     "data": {
      "text/plain": [
       "(JuliaChem.JCModules.Molecule(JuliaChem.JCModules.Atom[JuliaChem.JCModules.Atom(8, \"O\", [-2.0577523836046723, -0.8231734582792019, 0.0013299263825548024]), JuliaChem.JCModules.Atom(8, \"O\", [2.057751283886292, -0.8231709260463802, 0.0013666437584962665]), JuliaChem.JCModules.Atom(8, \"O\", [4.788616724482608e-6, 2.978197675663237, -0.0006611645071483707]), JuliaChem.JCModules.Atom(6, \"C\", [-4.4850966087103075, 0.4847272328295027, -0.0006152630629063793]), JuliaChem.JCModules.Atom(6, \"C\", [4.485080183314169, 0.4847613045890604, -0.0005876352689657693]), JuliaChem.JCModules.Atom(6, \"C\", [-6.549084472074862, -1.5003211446444666, -0.0006224629189190978]), JuliaChem.JCModules.Atom(6, \"C\", [6.549099019287661, -1.5002590104539895, -0.0004882734765310204]), JuliaChem.JCModules.Atom(6, \"C\", [-1.995499570028869e-6, 0.6871151475666064, 0.00038489331335433974]), JuliaChem.JCModules.Atom(1, \"H\", [-4.583355953900746, 1.6906561553531123, 1.6705210173990057]), JuliaChem.JCModules.Atom(1, \"H\", [-4.581703237346405, 1.6887052022433888, -1.6733271025670806]), JuliaChem.JCModules.Atom(1, \"H\", [4.581699869956841, 1.6886892907505704, -1.673335417361427]), JuliaChem.JCModules.Atom(1, \"H\", [4.583296272676746, 1.6907655704878, 1.670490384940745]), JuliaChem.JCModules.Atom(1, \"H\", [-8.383091718973413, -0.5546900905530823, -0.002172907502805188]), JuliaChem.JCModules.Atom(1, \"H\", [-6.439666521694044, -2.6947859877717786, -1.678352828831427]), JuliaChem.JCModules.Atom(1, \"H\", [-6.441307597536301, -2.6930308102743847, 1.6784560146159695]), JuliaChem.JCModules.Atom(1, \"H\", [8.383122177679029, -0.5546526739785254, -0.00200753758161909]), JuliaChem.JCModules.Atom(1, \"H\", [6.441275033880226, -2.6929485505021376, 1.6785975739897108]), JuliaChem.JCModules.Atom(1, \"H\", [6.439719279166317, -2.69476259296405, -1.6781948855333741])], JuliaChem.JERI.Atom[JuliaChem.JERI.AtomDereferenced(Ptr{Nothing} @0x0000000001d9dea0), JuliaChem.JERI.AtomDereferenced(Ptr{Nothing} @0x0000000001d9dec0), JuliaChem.JERI.AtomDereferenced(Ptr{Nothing} @0x0000000001d9dee0), JuliaChem.JERI.AtomDereferenced(Ptr{Nothing} @0x0000000001d9df00), JuliaChem.JERI.AtomDereferenced(Ptr{Nothing} @0x0000000001d9df20), JuliaChem.JERI.AtomDereferenced(Ptr{Nothing} @0x0000000001d9df40), JuliaChem.JERI.AtomDereferenced(Ptr{Nothing} @0x0000000001d9df60), JuliaChem.JERI.AtomDereferenced(Ptr{Nothing} @0x0000000001d9df80), JuliaChem.JERI.AtomDereferenced(Ptr{Nothing} @0x0000000001d9dfa0), JuliaChem.JERI.AtomDereferenced(Ptr{Nothing} @0x0000000001d9dfc0), JuliaChem.JERI.AtomDereferenced(Ptr{Nothing} @0x0000000001d9dfe0), JuliaChem.JERI.AtomDereferenced(Ptr{Nothing} @0x0000000001d9e000), JuliaChem.JERI.AtomDereferenced(Ptr{Nothing} @0x0000000001d9e020), JuliaChem.JERI.AtomDereferenced(Ptr{Nothing} @0x0000000001d9e040), JuliaChem.JERI.AtomDereferenced(Ptr{Nothing} @0x0000000001d9e060), JuliaChem.JERI.AtomDereferenced(Ptr{Nothing} @0x0000000001d9e080), JuliaChem.JERI.AtomDereferenced(Ptr{Nothing} @0x0000000001d9e0a0), JuliaChem.JERI.AtomDereferenced(Ptr{Nothing} @0x0000000001d9e0c0)]), JuliaChem.JCModules.Basis(JuliaChem.JCModules.Shell[JuliaChem.JCModules.Shell(1, 1, 8, [5484.67166, 825.234946, 188.046958, 52.9645, 16.8975704, 5.79963534, 0.0, 0.0, 0.0, 0.0, 0.0, 0.0], [0.8317236780463337, 1.5308155627660587, 2.4771485422918578, 3.256281095763484, 2.7928933738950428, 0.9549376774307774, 0.0, 0.0, 0.0, 0.0  …  0.0, 0.0, 0.0, 0.0, 0.0, 0.0, 0.0, 0.0, 0.0, 0.0], [-2.0577523836046723, -0.8231734582792019, 0.0013299263825548024], Cstring(0x00007f50612a3098), 1, 1, 6, 1, 0), JuliaChem.JCModules.Shell(2, 1, 8, [15.53961625, 3.599933586, 1.01376175, 0.0, 0.0, 0.0, 0.0, 0.0, 0.0, 0.0, 0.0, 0.0], [-0.6179339598709542, -0.27572092902126205, 0.8142075953005073, 0.0, 0.0, 0.0, 0.0, 0.0, 0.0, 0.0  …  0.0, 0.0, 0.0, 0.0, 0.0, 0.0, 0.0, 0.0, 0.0, 0.0], [-2.0577523836046723, -0.8231734582792019, 0.0013299263825548024], Cstring(0x00007f50612a3098), 1, 1, 3, 2, 0), JuliaChem.JCModules.Shell(3, 1, 8, [15.53961625, 3.599933586, 1.01376175, 0.0, 0.0, 0.0, 0.0, 0.0, 0.0, 0.0, 0.0, 0.0], [3.1169442744439153, 2.4014375284823144, 1.054360422192112, 0.0, 0.0, 0.0, 0.0, 0.0, 0.0, 0.0  …  0.0, 0.0, 0.0, 0.0, 0.0, 0.0, 0.0, 0.0, 0.0, 0.0], [-2.0577523836046723, -0.8231734582792019, 0.0013299263825548024], Cstring(0x00007f50612a30b8), 2, 3, 3, 3, 0), JuliaChem.JCModules.Shell(4, 1, 8, [0.2700058226, 0.0, 0.0, 0.0, 0.0, 0.0, 0.0, 0.0, 0.0, 0.0, 0.0, 0.0], [0.2669561556164354, 0.0, 0.0, 0.0, 0.0, 0.0, 0.0, 0.0, 0.0, 0.0  …  0.0, 0.0, 0.0, 0.0, 0.0, 0.0, 0.0, 0.0, 0.0, 0.0], [-2.0577523836046723, -0.8231734582792019, 0.0013299263825548024], Cstring(0x00007f50612a3098), 1, 1, 1, 6, 0), JuliaChem.JCModules.Shell(5, 1, 8, [0.2700058226, 0.0, 0.0, 0.0, 0.0, 0.0, 0.0, 0.0, 0.0, 0.0, 0.0, 0.0], [0.2774319663400408, 0.0, 0.0, 0.0, 0.0, 0.0, 0.0, 0.0, 0.0, 0.0  …  0.0, 0.0, 0.0, 0.0, 0.0, 0.0, 0.0, 0.0, 0.0, 0.0], [-2.0577523836046723, -0.8231734582792019, 0.0013299263825548024], Cstring(0x00007f50612a30b8), 2, 3, 1, 7, 0), JuliaChem.JCModules.Shell(6, 1, 8, [0.8, 0.0, 0.0, 0.0, 0.0, 0.0, 0.0, 0.0, 0.0, 0.0, 0.0, 0.0], [1.1138249280646129, 0.0, 0.0, 0.0, 0.0, 0.0, 0.0, 0.0, 0.0, 0.0  …  0.0, 0.0, 0.0, 0.0, 0.0, 0.0, 0.0, 0.0, 0.0, 0.0], [-2.0577523836046723, -0.8231734582792019, 0.0013299263825548024], Cstring(0x00007f50612a30d8), 3, 6, 1, 10, 0), JuliaChem.JCModules.Shell(7, 1, 8, [0.0845, 0.0, 0.0, 0.0, 0.0, 0.0, 0.0, 0.0, 0.0, 0.0, 0.0, 0.0], [0.11169985875271767, 0.0, 0.0, 0.0, 0.0, 0.0, 0.0, 0.0, 0.0, 0.0  …  0.0, 0.0, 0.0, 0.0, 0.0, 0.0, 0.0, 0.0, 0.0, 0.0], [-2.0577523836046723, -0.8231734582792019, 0.0013299263825548024], Cstring(0x00007f50612a3098), 1, 1, 1, 16, 0), JuliaChem.JCModules.Shell(8, 1, 8, [0.0845, 0.0, 0.0, 0.0, 0.0, 0.0, 0.0, 0.0, 0.0, 0.0, 0.0, 0.0], [0.06493980408453241, 0.0, 0.0, 0.0, 0.0, 0.0, 0.0, 0.0, 0.0, 0.0  …  0.0, 0.0, 0.0, 0.0, 0.0, 0.0, 0.0, 0.0, 0.0, 0.0], [-2.0577523836046723, -0.8231734582792019, 0.0013299263825548024], Cstring(0x00007f50612a30b8), 2, 3, 1, 17, 0), JuliaChem.JCModules.Shell(9, 2, 8, [5484.67166, 825.234946, 188.046958, 52.9645, 16.8975704, 5.79963534, 0.0, 0.0, 0.0, 0.0, 0.0, 0.0], [0.8317236780463337, 1.5308155627660587, 2.4771485422918578, 3.256281095763484, 2.7928933738950428, 0.9549376774307774, 0.0, 0.0, 0.0, 0.0  …  0.0, 0.0, 0.0, 0.0, 0.0, 0.0, 0.0, 0.0, 0.0, 0.0], [2.057751283886292, -0.8231709260463802, 0.0013666437584962665], Cstring(0x00007f50612a3098), 1, 1, 6, 20, 0), JuliaChem.JCModules.Shell(10, 2, 8, [15.53961625, 3.599933586, 1.01376175, 0.0, 0.0, 0.0, 0.0, 0.0, 0.0, 0.0, 0.0, 0.0], [-0.6179339598709542, -0.27572092902126205, 0.8142075953005073, 0.0, 0.0, 0.0, 0.0, 0.0, 0.0, 0.0  …  0.0, 0.0, 0.0, 0.0, 0.0, 0.0, 0.0, 0.0, 0.0, 0.0], [2.057751283886292, -0.8231709260463802, 0.0013666437584962665], Cstring(0x00007f50612a3098), 1, 1, 3, 21, 0)  …  JuliaChem.JCModules.Shell(75, 14, 1, [18.73113696, 2.825394365, 0.6401216923, 0.0, 0.0, 0.0, 0.0, 0.0, 0.0, 0.0, 0.0, 0.0], [0.21493544889215385, 0.3645712021918747, 0.4150514278318946, 0.0, 0.0, 0.0, 0.0, 0.0, 0.0, 0.0  …  0.0, 0.0, 0.0, 0.0, 0.0, 0.0, 0.0, 0.0, 0.0, 0.0], [-6.439666521694044, -2.6947859877717786, -1.678352828831427], Cstring(0x00007f50612a3098), 1, 1, 3, 163, 0), JuliaChem.JCModules.Shell(76, 14, 1, [0.1612777588, 0.0, 0.0, 0.0, 0.0, 0.0, 0.0, 0.0, 0.0, 0.0, 0.0, 0.0], [0.18138064917865246, 0.0, 0.0, 0.0, 0.0, 0.0, 0.0, 0.0, 0.0, 0.0  …  0.0, 0.0, 0.0, 0.0, 0.0, 0.0, 0.0, 0.0, 0.0, 0.0], [-6.439666521694044, -2.6947859877717786, -1.678352828831427], Cstring(0x00007f50612a3098), 1, 1, 1, 164, 0), JuliaChem.JCModules.Shell(77, 15, 1, [18.73113696, 2.825394365, 0.6401216923, 0.0, 0.0, 0.0, 0.0, 0.0, 0.0, 0.0, 0.0, 0.0], [0.21493544889215385, 0.3645712021918747, 0.4150514278318946, 0.0, 0.0, 0.0, 0.0, 0.0, 0.0, 0.0  …  0.0, 0.0, 0.0, 0.0, 0.0, 0.0, 0.0, 0.0, 0.0, 0.0], [-6.441307597536301, -2.6930308102743847, 1.6784560146159695], Cstring(0x00007f50612a3098), 1, 1, 3, 165, 0), JuliaChem.JCModules.Shell(78, 15, 1, [0.1612777588, 0.0, 0.0, 0.0, 0.0, 0.0, 0.0, 0.0, 0.0, 0.0, 0.0, 0.0], [0.18138064917865246, 0.0, 0.0, 0.0, 0.0, 0.0, 0.0, 0.0, 0.0, 0.0  …  0.0, 0.0, 0.0, 0.0, 0.0, 0.0, 0.0, 0.0, 0.0, 0.0], [-6.441307597536301, -2.6930308102743847, 1.6784560146159695], Cstring(0x00007f50612a3098), 1, 1, 1, 166, 0), JuliaChem.JCModules.Shell(79, 16, 1, [18.73113696, 2.825394365, 0.6401216923, 0.0, 0.0, 0.0, 0.0, 0.0, 0.0, 0.0, 0.0, 0.0], [0.21493544889215385, 0.3645712021918747, 0.4150514278318946, 0.0, 0.0, 0.0, 0.0, 0.0, 0.0, 0.0  …  0.0, 0.0, 0.0, 0.0, 0.0, 0.0, 0.0, 0.0, 0.0, 0.0], [8.383122177679029, -0.5546526739785254, -0.00200753758161909], Cstring(0x00007f50612a3098), 1, 1, 3, 167, 0), JuliaChem.JCModules.Shell(80, 16, 1, [0.1612777588, 0.0, 0.0, 0.0, 0.0, 0.0, 0.0, 0.0, 0.0, 0.0, 0.0, 0.0], [0.18138064917865246, 0.0, 0.0, 0.0, 0.0, 0.0, 0.0, 0.0, 0.0, 0.0  …  0.0, 0.0, 0.0, 0.0, 0.0, 0.0, 0.0, 0.0, 0.0, 0.0], [8.383122177679029, -0.5546526739785254, -0.00200753758161909], Cstring(0x00007f50612a3098), 1, 1, 1, 168, 0), JuliaChem.JCModules.Shell(81, 17, 1, [18.73113696, 2.825394365, 0.6401216923, 0.0, 0.0, 0.0, 0.0, 0.0, 0.0, 0.0, 0.0, 0.0], [0.21493544889215385, 0.3645712021918747, 0.4150514278318946, 0.0, 0.0, 0.0, 0.0, 0.0, 0.0, 0.0  …  0.0, 0.0, 0.0, 0.0, 0.0, 0.0, 0.0, 0.0, 0.0, 0.0], [6.441275033880226, -2.6929485505021376, 1.6785975739897108], Cstring(0x00007f50612a3098), 1, 1, 3, 169, 0), JuliaChem.JCModules.Shell(82, 17, 1, [0.1612777588, 0.0, 0.0, 0.0, 0.0, 0.0, 0.0, 0.0, 0.0, 0.0, 0.0, 0.0], [0.18138064917865246, 0.0, 0.0, 0.0, 0.0, 0.0, 0.0, 0.0, 0.0, 0.0  …  0.0, 0.0, 0.0, 0.0, 0.0, 0.0, 0.0, 0.0, 0.0, 0.0], [6.441275033880226, -2.6929485505021376, 1.6785975739897108], Cstring(0x00007f50612a3098), 1, 1, 1, 170, 0), JuliaChem.JCModules.Shell(83, 18, 1, [18.73113696, 2.825394365, 0.6401216923, 0.0, 0.0, 0.0, 0.0, 0.0, 0.0, 0.0, 0.0, 0.0], [0.21493544889215385, 0.3645712021918747, 0.4150514278318946, 0.0, 0.0, 0.0, 0.0, 0.0, 0.0, 0.0  …  0.0, 0.0, 0.0, 0.0, 0.0, 0.0, 0.0, 0.0, 0.0, 0.0], [6.439719279166317, -2.69476259296405, -1.6781948855333741], Cstring(0x00007f50612a3098), 1, 1, 3, 171, 0), JuliaChem.JCModules.Shell(84, 18, 1, [0.1612777588, 0.0, 0.0, 0.0, 0.0, 0.0, 0.0, 0.0, 0.0, 0.0, 0.0, NaN], [0.18138064917865246, 0.0, 0.0, 0.0, 0.0, 0.0, 0.0, 0.0, 0.0, 0.0  …  0.0, 0.0, 0.0, 0.0, 0.0, 0.0, 0.0, 0.0, 0.0, 0.0], [6.439719279166317, -2.69476259296405, -1.6781948855333741], Cstring(0x00007f50612a3098), 1, 1, 1, 172, 0)], JuliaChem.JERI.BasisSetAllocated(Ptr{Nothing} @0x00000000027a5870), JuliaChem.JERI.ShellPair[JuliaChem.JERI.ShellPairDereferenced(Ptr{Nothing} @0x0000000004565380), JuliaChem.JERI.ShellPairDereferenced(Ptr{Nothing} @0x00000000045653b0), JuliaChem.JERI.ShellPairDereferenced(Ptr{Nothing} @0x00000000045653e0), JuliaChem.JERI.ShellPairDereferenced(Ptr{Nothing} @0x0000000004565410), JuliaChem.JERI.ShellPairDereferenced(Ptr{Nothing} @0x0000000004565440), JuliaChem.JERI.ShellPairDereferenced(Ptr{Nothing} @0x0000000004565470), JuliaChem.JERI.ShellPairDereferenced(Ptr{Nothing} @0x00000000045654a0), JuliaChem.JERI.ShellPairDereferenced(Ptr{Nothing} @0x00000000045654d0), JuliaChem.JERI.ShellPairDereferenced(Ptr{Nothing} @0x0000000004565500), JuliaChem.JERI.ShellPairDereferenced(Ptr{Nothing} @0x0000000004565530)  …  JuliaChem.JERI.ShellPairDereferenced(Ptr{Nothing} @0x00000000045671b0), JuliaChem.JERI.ShellPairDereferenced(Ptr{Nothing} @0x00000000045671e0), JuliaChem.JERI.ShellPairDereferenced(Ptr{Nothing} @0x0000000004567210), JuliaChem.JERI.ShellPairDereferenced(Ptr{Nothing} @0x0000000004567240), JuliaChem.JERI.ShellPairDereferenced(Ptr{Nothing} @0x0000000004567270), JuliaChem.JERI.ShellPairDereferenced(Ptr{Nothing} @0x00000000045672a0), JuliaChem.JERI.ShellPairDereferenced(Ptr{Nothing} @0x00000000045672d0), JuliaChem.JERI.ShellPairDereferenced(Ptr{Nothing} @0x0000000004567300), JuliaChem.JERI.ShellPairDereferenced(Ptr{Nothing} @0x0000000004567330), JuliaChem.JERI.ShellPairDereferenced(Ptr{Nothing} @0x0000000004567360)], \"6-31+G*\", 172, 64))"
      ]
     },
     "metadata": {},
     "execution_count": 8
    }
   ],
   "metadata": {}
  },
  {
   "cell_type": "markdown",
   "source": [
    "The fifth step of running JuliaChem is running the bulk of the calculation. For now, this will consist of running RHF energy calculations and a couple of RHF property calculations, such as Mulliken charges. New functionalities such as gradients and more propery computations are also planned on being added. Certain properties require gradients and Hessians, both of which are currently being worked on.\n",
    "\n",
    "When performing energy calculations, the molecule and basis set objects created in Step #4 are required; additionally, the scf keywords from the keywords input data are required. As before, there is an optional verbosity keyword to control print output. The verbosity output defaults to 0 (none), but we have elected to set it to 2 (verbose) here. The return value object from an RHF energy calculation contains a variety of information - the RHF energy of the system, the final Fock and Density matrices, the final molecular orbital coefficients, and whether the calculation converged or not.\n",
    "\n",
    "When performing property calculations, the molecule and basis set objects created in Step #4 are required; additionally, the property keywords from the keywords input data are required. Finally, the information provided by the RHF energy calculation is required. As before, there is an optional verbosity keyword to control print output. The verbosity output defaults to 0 (none), but we have elected to set it to 2 (verbose) here. The return value object from an RHF property calculation contains information regarding the properties specified by the user, which can include the following: Molecular orbital energies, HOMO-LUMO gap, energy of formation, dipole moment, Mulliken property analysis, and Mulliken charges on each atom."
   ],
   "metadata": {}
  },
  {
   "cell_type": "code",
   "execution_count": 9,
   "source": [
    "rhf_energy = JuliaChem.JCRHF.Energy.run(mol, basis, keywords[\"scf\"]; output=2)"
   ],
   "outputs": [],
   "metadata": {
    "scrolled": true
   }
  },
  {
   "cell_type": "code",
   "execution_count": null,
   "source": [
    "\n",
    "rhf_properties = JuliaChem.JCRHF.Properties.run(mol, basis, rhf_energy, keywords[\"prop\"]; output=2)"
   ],
   "outputs": [
    {
     "output_type": "error",
     "ename": "Error",
     "evalue": "Kernel is dead",
     "traceback": [
      "Error: Kernel is dead",
      "at g._sendKernelShellControl (/home/jackson/.vscode-server/extensions/ms-toolsai.jupyter-2021.8.1054968649/out/client/extension.js:52:852938)",
      "at g.sendShellMessage (/home/jackson/.vscode-server/extensions/ms-toolsai.jupyter-2021.8.1054968649/out/client/extension.js:52:852707)",
      "at g.requestExecute (/home/jackson/.vscode-server/extensions/ms-toolsai.jupyter-2021.8.1054968649/out/client/extension.js:52:855249)",
      "at d.requestExecute (/home/jackson/.vscode-server/extensions/ms-toolsai.jupyter-2021.8.1054968649/out/client/extension.js:37:313885)",
      "at w.requestExecute (/home/jackson/.vscode-server/extensions/ms-toolsai.jupyter-2021.8.1054968649/out/client/extension.js:24:134487)",
      "at w.executeCodeCell (/home/jackson/.vscode-server/extensions/ms-toolsai.jupyter-2021.8.1054968649/out/client/extension.js:90:319834)",
      "at w.execute (/home/jackson/.vscode-server/extensions/ms-toolsai.jupyter-2021.8.1054968649/out/client/extension.js:90:319389)",
      "at w.start (/home/jackson/.vscode-server/extensions/ms-toolsai.jupyter-2021.8.1054968649/out/client/extension.js:90:315205)",
      "at async t.CellExecutionQueue.executeQueuedCells (/home/jackson/.vscode-server/extensions/ms-toolsai.jupyter-2021.8.1054968649/out/client/extension.js:90:329732)",
      "at async t.CellExecutionQueue.start (/home/jackson/.vscode-server/extensions/ms-toolsai.jupyter-2021.8.1054968649/out/client/extension.js:90:329272)"
     ]
    }
   ],
   "metadata": {}
  },
  {
   "cell_type": "markdown",
   "source": [
    "The final step of running JuliaChem.jl is finalizing the JuliaChem.jl runtime. As with initialization, this is basically present only to finalize the MPI and Libint runtimes."
   ],
   "metadata": {}
  },
  {
   "cell_type": "code",
   "execution_count": null,
   "source": [
    "JuliaChem.finalize()"
   ],
   "outputs": [],
   "metadata": {}
  },
  {
   "cell_type": "markdown",
   "source": [
    "And there we go! We have run a calculation using JuliaChem.jl!"
   ],
   "metadata": {}
  },
  {
   "cell_type": "code",
   "execution_count": null,
   "source": [],
   "outputs": [],
   "metadata": {}
  },
  {
   "cell_type": "code",
   "execution_count": null,
   "source": [],
   "outputs": [],
   "metadata": {}
  }
 ],
 "metadata": {
  "kernelspec": {
   "display_name": "Julia 1.6.1",
   "language": "julia",
   "name": "julia-1.6"
  },
  "language_info": {
   "file_extension": ".jl",
   "name": "julia",
   "mimetype": "application/julia",
   "version": "1.6.1"
  }
 },
 "nbformat": 4,
 "nbformat_minor": 2
}