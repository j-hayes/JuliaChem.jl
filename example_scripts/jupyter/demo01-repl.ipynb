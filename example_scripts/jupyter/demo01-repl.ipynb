{
 "cells": [
  {
   "cell_type": "markdown",
   "source": [
    "The first step of running JuliaChem.jl is importing the JuliaChem module. As the JuliaChem.jl package is not yet registered, this will require either downloading JuliaChem.jl locally, or adding the JuliaChem.jl GitHub repository to Pkg."
   ],
   "metadata": {}
  },
  {
   "cell_type": "code",
   "execution_count": 1,
   "source": [
    "import JuliaChem"
   ],
   "outputs": [
    {
     "output_type": "stream",
     "name": "stderr",
     "text": [
      "┌ Info: Precompiling JuliaChem [0a8e60a0-aa30-11e9-2bf2-3fef263b0d75]\n",
      "└ @ Base loading.jl:1317\n"
     ]
    }
   ],
   "metadata": {}
  },
  {
   "cell_type": "markdown",
   "source": [
    "The next step in running JuliaChem.jl is to initialize the JuliaChem.jl runtime. The JuliaChem.jl runtime is rather small, and consists entirely of the runtimes of underlying dependencies - MPI and Libint."
   ],
   "metadata": {}
  },
  {
   "cell_type": "code",
   "execution_count": 2,
   "source": [
    "JuliaChem.initialize()"
   ],
   "outputs": [],
   "metadata": {}
  },
  {
   "cell_type": "markdown",
   "source": [
    "The third step in running JuliaChem.jl is processing input data. The input data can be divided into four parts - molecule data, driver data, general calculation data, and method keywords. These four parts are inspired by the QCSchema input scheme proposed by the Molecular Software Sciences Institute (MolSSI). More information about QCSchema can be seen at https://molssi-qc-schema.readthedocs.io/en/latest/.\n",
    "\n",
    "The first facet of the input data is molecule data. The molecule data object is a dictionary which contains information about the geometric coordinates of the system, the atomic symbols of the atoms contained within the system, and the charge of the system."
   ],
   "metadata": {}
  },
  {
   "cell_type": "code",
   "execution_count": 3,
   "source": [
    " molecule = Dict(\n",
    "    \"geometry\" => Vector{Float64}(\n",
    "        [6.411074, 6.98113527, 7.50153528, \n",
    "         8.58890491, 6.98113661, 7.50155471, \n",
    "         7.49999228, 8.99273439, 7.50048164,\n",
    "         5.12657866, 7.67324656, 7.50050593,\n",
    "         9.87339214, 7.67326459, 7.50052055, \n",
    "         4.03436324, 6.62280412, 7.50050212, \n",
    "         10.96562395, 6.622837, 7.50057313, \n",
    "         7.49998869, 7.78034564, 7.50103519, \n",
    "         5.07458205, 8.31139671, 8.38483323, \n",
    "         5.07545663, 8.31036431, 6.61534488, \n",
    "         9.92452108, 8.31035589, 6.61534048, \n",
    "         9.92536586, 8.31145461, 8.38481702, \n",
    "         3.06384833, 7.12321056, 7.49968166, \n",
    "         4.09226473, 5.9907205, 6.61268538, \n",
    "         4.09139631, 5.9916493, 8.38903225, \n",
    "         11.93614728, 7.12323036, 7.49976917, \n",
    "         10.90856595, 5.99169283, 8.38910716, \n",
    "         10.90774268, 5.99073288, 6.61276896]\n",
    "        ),\n",
    "    \"symbols\" => Vector{String}([\"O\", \"O\", \"O\", \"C\", \"C\", \"C\", \"C\", \"C\", \"H\", \"H\", \"H\", \"H\", \"H\", \"H\", \"H\", \"H\", \"H\", \"H\"]),\n",
    "    \"molecular_charge\" => zero(Int64)\n",
    ")"
   ],
   "outputs": [
    {
     "output_type": "execute_result",
     "data": {
      "text/plain": [
       "Dict{String,Any} with 3 entries:\n",
       "  \"symbols\"          => [\"O\", \"O\", \"O\", \"C\", \"C\", \"C\", \"C\", \"C\", \"H\", \"H\", \"H\",…\n",
       "  \"molecular_charge\" => 0\n",
       "  \"geometry\"         => [6.41107, 6.98114, 7.50154, 8.5889, 6.98114, 7.50155, 7…"
      ]
     },
     "metadata": {},
     "execution_count": 3
    }
   ],
   "metadata": {}
  },
  {
   "cell_type": "markdown",
   "source": [
    "Molecule information contained in an xyz file can be read in and processed automatically.\n"
   ],
   "metadata": {}
  },
  {
   "cell_type": "code",
   "execution_count": 4,
   "source": [
    "molecule = JuliaChem.JCInput.xyz_to_molecule(\"H2O.xyz\")"
   ],
   "outputs": [
    {
     "output_type": "execute_result",
     "data": {
      "text/plain": [
       "Dict{String, Any} with 3 entries:\n",
       "  \"symbols\"          => Any[\"O\", \"H\", \"H\"]\n",
       "  \"molecular_charge\" => 0\n",
       "  \"geometry\"         => Any[0.0, -0.07579, 0.0, 0.86681, 0.60144, 0.0, -0.86681…"
      ]
     },
     "metadata": {},
     "execution_count": 4
    }
   ],
   "metadata": {}
  },
  {
   "cell_type": "markdown",
   "source": [
    "The second facet of the input data is driver data. The driver data object is a String that dictates what type of calculation is performed. This is included for completeness with respect to the QCSchema, but it is not strictly necessary currently."
   ],
   "metadata": {}
  },
  {
   "cell_type": "code",
   "execution_count": 5,
   "source": [
    "driver = \"energy\""
   ],
   "outputs": [
    {
     "output_type": "execute_result",
     "data": {
      "text/plain": [
       "\"energy\""
      ]
     },
     "metadata": {},
     "execution_count": 5
    }
   ],
   "metadata": {}
  },
  {
   "cell_type": "markdown",
   "source": [
    "The third facet of the input data is general calculation data. The calculation data object is a dictionary that contains information about the specific method used for the calculation, and the basis set chosen for the calculation.\n",
    "\n",
    "Currently, only the Restricted Hartree-Fock (RHF) method is supported as a method. As for basis sets, a reasonable number of Pople basis sets are supported, going up to Pople basis sets with f-shell inclusion. "
   ],
   "metadata": {}
  },
  {
   "cell_type": "code",
   "execution_count": 6,
   "source": [
    "model = Dict(\n",
    "  \"method\" => \"RHF\",\n",
    "  \"basis\" => \"6-31+G*\"\n",
    ")"
   ],
   "outputs": [
    {
     "output_type": "execute_result",
     "data": {
      "text/plain": [
       "Dict{String, String} with 2 entries:\n",
       "  \"method\" => \"RHF\"\n",
       "  \"basis\"  => \"6-31+G*\""
      ]
     },
     "metadata": {},
     "execution_count": 6
    }
   ],
   "metadata": {}
  },
  {
   "cell_type": "markdown",
   "source": [
    "The final facet of the input data is the calculation keywords. The calculation keywords object is a dictionary that contains releavnt keywords controlling specifics of each step of the calculation. \n",
    "\n",
    "Keywords pertaining to the calculation of RHF energies are contained in the \"scf\" subgroup. Keywords pertaining to the computation of RHF molecular properties are contained in the \"prop\" subgroup. Not specifying a specific keyword automatically uses the default value for that keyword."
   ],
   "metadata": {}
  },
  {
   "cell_type": "code",
   "execution_count": 7,
   "source": [
    "keywords = Dict(\n",
    "  \"scf\" => Dict(),\n",
    "  \"prop\" => Dict(\n",
    "    \"formation\" => true,\n",
    "    \"mo energies\" => true,\n",
    "    \"mulliken\" => true,\n",
    "    \"multipole\" => \"dipole\"\n",
    "  )\n",
    ")"
   ],
   "outputs": [
    {
     "output_type": "execute_result",
     "data": {
      "text/plain": [
       "Dict{String, Dict{K, Any} where K} with 2 entries:\n",
       "  \"prop\" => Dict{String, Any}(\"mulliken\"=>true, \"formation\"=>true, \"multipole\"=…\n",
       "  \"scf\"  => Dict{Any, Any}()"
      ]
     },
     "metadata": {},
     "execution_count": 7
    }
   ],
   "metadata": {}
  },
  {
   "cell_type": "markdown",
   "source": [
    "The fourth step of running JuliaChem.jl is processing the input information to create basis set and molecule objects. These basis set and molecule objects are heavily used throughout the calculations that JuliaChem.jl performs. The basis set object contains information about the basis set shells, such as exponents and contraction coefficients, acquired from the Basis Set Exchange project created by MolSSI. This information is palatable to both JuliaChem.jl and the underlying Libint interface. The molecule object contains information about the coordinates and atoms within the system, also palatable to both JuliaChem.jl and the underlying Libint interface. \n",
    "\n",
    "This step requires the molecule and model dictionary input objects defined earlier as inputs. Additionally, an optional keyword input controlling the verbosity of the output can be input. By default, no output text is generated. "
   ],
   "metadata": {}
  },
  {
   "cell_type": "code",
   "execution_count": 8,
   "source": [
    "mol, basis = JuliaChem.JCBasis.run(molecule, model; output=0)"
   ],
   "outputs": [
    {
     "output_type": "execute_result",
     "data": {
      "text/plain": [
       "(JuliaChem.JCModules.Molecule(JuliaChem.JCModules.Atom[JuliaChem.JCModules.Atom(8, \"O\", [0.0, -0.14320516549977125, 0.0]), JuliaChem.JCModules.Atom(1, \"H\", [1.638033383417192, 1.1365739651651092, 0.0]), JuliaChem.JCModules.Atom(1, \"H\", [-1.638033383417192, 1.1365739651651092, 0.0])], JuliaChem.JERI.Atom[JuliaChem.JERI.AtomDereferenced(Ptr{Nothing} @0x0000000004fb15d0), JuliaChem.JERI.AtomDereferenced(Ptr{Nothing} @0x0000000004fb15f0), JuliaChem.JERI.AtomDereferenced(Ptr{Nothing} @0x0000000004fb1610)]), JuliaChem.JCModules.Basis(JuliaChem.JCModules.Shell[JuliaChem.JCModules.Shell(1, 1, 8, [5484.67166, 825.234946, 188.046958, 52.9645, 16.8975704, 5.79963534, 0.0, 0.0, 0.0, 0.0, 0.0, 0.0], [0.8317236780463337, 1.5308155627660587, 2.4771485422918578, 3.256281095763484, 2.7928933738950428, 0.9549376774307774, 0.0, 0.0, 0.0, 0.0  …  0.0, 0.0, 0.0, 0.0, 0.0, 0.0, 0.0, 0.0, 0.0, 0.0], [0.0, -0.14320516549977125, 0.0], Cstring(0x00007f69bb948418), 1, 1, 6, 1, 0), JuliaChem.JCModules.Shell(2, 1, 8, [15.53961625, 3.599933586, 1.01376175, 0.0, 0.0, 0.0, 0.0, 0.0, 0.0, 0.0, 0.0, 0.0], [-0.6179339598709542, -0.27572092902126205, 0.8142075953005073, 0.0, 0.0, 0.0, 0.0, 0.0, 0.0, 0.0  …  0.0, 0.0, 0.0, 0.0, 0.0, 0.0, 0.0, 0.0, 0.0, 0.0], [0.0, -0.14320516549977125, 0.0], Cstring(0x00007f69bb948418), 1, 1, 3, 2, 0), JuliaChem.JCModules.Shell(3, 1, 8, [15.53961625, 3.599933586, 1.01376175, 0.0, 0.0, 0.0, 0.0, 0.0, 0.0, 0.0, 0.0, 0.0], [3.1169442744439153, 2.4014375284823144, 1.054360422192112, 0.0, 0.0, 0.0, 0.0, 0.0, 0.0, 0.0  …  0.0, 0.0, 0.0, 0.0, 0.0, 0.0, 0.0, 0.0, 0.0, 0.0], [0.0, -0.14320516549977125, 0.0], Cstring(0x00007f69bb948438), 2, 3, 3, 3, 0), JuliaChem.JCModules.Shell(4, 1, 8, [0.2700058226, 0.0, 0.0, 0.0, 0.0, 0.0, 0.0, 0.0, 0.0, 0.0, 0.0, 0.0], [0.2669561556164354, 0.0, 0.0, 0.0, 0.0, 0.0, 0.0, 0.0, 0.0, 0.0  …  0.0, 0.0, 0.0, 0.0, 0.0, 0.0, 0.0, 0.0, 0.0, 0.0], [0.0, -0.14320516549977125, 0.0], Cstring(0x00007f69bb948418), 1, 1, 1, 6, 0), JuliaChem.JCModules.Shell(5, 1, 8, [0.2700058226, 0.0, 0.0, 0.0, 0.0, 0.0, 0.0, 0.0, 0.0, 0.0, 0.0, 0.0], [0.2774319663400408, 0.0, 0.0, 0.0, 0.0, 0.0, 0.0, 0.0, 0.0, 0.0  …  0.0, 0.0, 0.0, 0.0, 0.0, 0.0, 0.0, 0.0, 0.0, 0.0], [0.0, -0.14320516549977125, 0.0], Cstring(0x00007f69bb948438), 2, 3, 1, 7, 0), JuliaChem.JCModules.Shell(6, 1, 8, [0.8, 0.0, 0.0, 0.0, 0.0, 0.0, 0.0, 0.0, 0.0, 0.0, 0.0, 0.0], [1.1138249280646129, 0.0, 0.0, 0.0, 0.0, 0.0, 0.0, 0.0, 0.0, 0.0  …  0.0, 0.0, 0.0, 0.0, 0.0, 0.0, 0.0, 0.0, 0.0, 0.0], [0.0, -0.14320516549977125, 0.0], Cstring(0x00007f69bb948458), 3, 6, 1, 10, 0), JuliaChem.JCModules.Shell(7, 1, 8, [0.0845, 0.0, 0.0, 0.0, 0.0, 0.0, 0.0, 0.0, 0.0, 0.0, 0.0, 0.0], [0.11169985875271767, 0.0, 0.0, 0.0, 0.0, 0.0, 0.0, 0.0, 0.0, 0.0  …  0.0, 0.0, 0.0, 0.0, 0.0, 0.0, 0.0, 0.0, 0.0, 0.0], [0.0, -0.14320516549977125, 0.0], Cstring(0x00007f69bb948418), 1, 1, 1, 16, 0), JuliaChem.JCModules.Shell(8, 1, 8, [0.0845, 0.0, 0.0, 0.0, 0.0, 0.0, 0.0, 0.0, 0.0, 0.0, 0.0, 0.0], [0.06493980408453241, 0.0, 0.0, 0.0, 0.0, 0.0, 0.0, 0.0, 0.0, 0.0  …  0.0, 0.0, 0.0, 0.0, 0.0, 0.0, 0.0, 0.0, 0.0, 0.0], [0.0, -0.14320516549977125, 0.0], Cstring(0x00007f69bb948438), 2, 3, 1, 17, 0), JuliaChem.JCModules.Shell(9, 2, 1, [18.73113696, 2.825394365, 0.6401216923, 0.0, 0.0, 0.0, 0.0, 0.0, 0.0, 0.0, 0.0, 0.0], [0.21493544889215385, 0.3645712021918747, 0.4150514278318946, 0.0, 0.0, 0.0, 0.0, 0.0, 0.0, 0.0  …  0.0, 0.0, 0.0, 0.0, 0.0, 0.0, 0.0, 0.0, 0.0, 0.0], [1.638033383417192, 1.1365739651651092, 0.0], Cstring(0x00007f69bb948418), 1, 1, 3, 20, 0), JuliaChem.JCModules.Shell(10, 2, 1, [0.1612777588, 0.0, 0.0, 0.0, 0.0, 0.0, 0.0, 0.0, 0.0, 0.0, 0.0, 0.0], [0.18138064917865246, 0.0, 0.0, 0.0, 0.0, 0.0, 0.0, 0.0, 0.0, 0.0  …  0.0, 0.0, 0.0, 0.0, 0.0, 0.0, 0.0, 0.0, 0.0, 0.0], [1.638033383417192, 1.1365739651651092, 0.0], Cstring(0x00007f69bb948418), 1, 1, 1, 21, 0), JuliaChem.JCModules.Shell(11, 3, 1, [18.73113696, 2.825394365, 0.6401216923, 0.0, 0.0, 0.0, 0.0, 0.0, 0.0, 0.0, 0.0, 0.0], [0.21493544889215385, 0.3645712021918747, 0.4150514278318946, 0.0, 0.0, 0.0, 0.0, 0.0, 0.0, 0.0  …  0.0, 0.0, 0.0, 0.0, 0.0, 0.0, 0.0, 0.0, 0.0, 0.0], [-1.638033383417192, 1.1365739651651092, 0.0], Cstring(0x00007f69bb948418), 1, 1, 3, 22, 0), JuliaChem.JCModules.Shell(12, 3, 1, [0.1612777588, 0.0, 0.0, 0.0, 0.0, 0.0, 0.0, 0.0, 0.0, 0.0, 0.0, 0.0], [0.18138064917865246, 0.0, 0.0, 0.0, 0.0, 0.0, 0.0, 0.0, 0.0, 0.0  …  0.0, 0.0, 0.0, 0.0, 0.0, 0.0, 0.0, 0.0, 0.0, 0.0], [-1.638033383417192, 1.1365739651651092, 0.0], Cstring(0x00007f69bb948418), 1, 1, 1, 23, 0)], JuliaChem.JERI.BasisSetAllocated(Ptr{Nothing} @0x0000000004bb0920), JuliaChem.JERI.ShellPair[JuliaChem.JERI.ShellPairDereferenced(Ptr{Nothing} @0x00000000051c89c0), JuliaChem.JERI.ShellPairDereferenced(Ptr{Nothing} @0x00000000051c89f0), JuliaChem.JERI.ShellPairDereferenced(Ptr{Nothing} @0x00000000051c8a20), JuliaChem.JERI.ShellPairDereferenced(Ptr{Nothing} @0x00000000051c8a50), JuliaChem.JERI.ShellPairDereferenced(Ptr{Nothing} @0x00000000051c8a80), JuliaChem.JERI.ShellPairDereferenced(Ptr{Nothing} @0x00000000051c8ab0), JuliaChem.JERI.ShellPairDereferenced(Ptr{Nothing} @0x00000000051c8ae0), JuliaChem.JERI.ShellPairDereferenced(Ptr{Nothing} @0x00000000051c8b10), JuliaChem.JERI.ShellPairDereferenced(Ptr{Nothing} @0x00000000051c8b40), JuliaChem.JERI.ShellPairDereferenced(Ptr{Nothing} @0x00000000051c8b70)  …  JuliaChem.JERI.ShellPairDereferenced(Ptr{Nothing} @0x00000000051c9680), JuliaChem.JERI.ShellPairDereferenced(Ptr{Nothing} @0x00000000051c96b0), JuliaChem.JERI.ShellPairDereferenced(Ptr{Nothing} @0x00000000051c96e0), JuliaChem.JERI.ShellPairDereferenced(Ptr{Nothing} @0x00000000051c9710), JuliaChem.JERI.ShellPairDereferenced(Ptr{Nothing} @0x00000000051c9740), JuliaChem.JERI.ShellPairDereferenced(Ptr{Nothing} @0x00000000051c9770), JuliaChem.JERI.ShellPairDereferenced(Ptr{Nothing} @0x00000000051c97a0), JuliaChem.JERI.ShellPairDereferenced(Ptr{Nothing} @0x00000000051c97d0), JuliaChem.JERI.ShellPairDereferenced(Ptr{Nothing} @0x00000000051c9800), JuliaChem.JERI.ShellPairDereferenced(Ptr{Nothing} @0x00000000051c9830)], \"6-31+G*\", 23, 10))"
      ]
     },
     "metadata": {},
     "execution_count": 8
    }
   ],
   "metadata": {}
  },
  {
   "cell_type": "markdown",
   "source": [
    "The fifth step of running JuliaChem is running the bulk of the calculation. For now, this will consist of running RHF energy calculations and a couple of RHF property calculations, such as Mulliken charges. New functionalities such as gradients and more propery computations are also planned on being added. Certain properties require gradients and Hessians, both of which are currently being worked on.\n",
    "\n",
    "When performing energy calculations, the molecule and basis set objects created in Step #4 are required; additionally, the scf keywords from the keywords input data are required. As before, there is an optional verbosity keyword to control print output. The verbosity output defaults to 0 (none), but we have elected to set it to 2 (verbose) here. The return value object from an RHF energy calculation contains a variety of information - the RHF energy of the system, the final Fock and Density matrices, the final molecular orbital coefficients, and whether the calculation converged or not.\n",
    "\n",
    "When performing property calculations, the molecule and basis set objects created in Step #4 are required; additionally, the property keywords from the keywords input data are required. Finally, the information provided by the RHF energy calculation is required. As before, there is an optional verbosity keyword to control print output. The verbosity output defaults to 0 (none), but we have elected to set it to 2 (verbose) here. The return value object from an RHF property calculation contains information regarding the properties specified by the user, which can include the following: Molecular orbital energies, HOMO-LUMO gap, energy of formation, dipole moment, Mulliken property analysis, and Mulliken charges on each atom."
   ],
   "metadata": {}
  },
  {
   "cell_type": "code",
   "execution_count": 9,
   "source": [
    "rhf_energy = JuliaChem.JCRHF.Energy.run(mol, basis, keywords[\"scf\"]; output=2)"
   ],
   "outputs": [
    {
     "output_type": "stream",
     "name": "stdout",
     "text": [
      "--------------------------------------------------------------------------------\n",
      "                       ========================================                 \n",
      "                                RESTRICTED CLOSED-SHELL                         \n",
      "                                  HARTREE-FOCK ENERGY                           \n",
      "                       ========================================                 \n",
      "\n",
      "----------------------------------------          \n",
      "       Starting RHF iterations...                 \n",
      "----------------------------------------          \n",
      " \n",
      "Iter        Energy                ΔE                Drms\n"
     ]
    },
    {
     "output_type": "error",
     "ename": "LoadError",
     "evalue": "TaskFailedException\n\n\u001b[91m    nested task error: \u001b[39mMethodError: no method matching compute_eri_block_ri()\n    \u001b[0mClosest candidates are:\n    \u001b[0m  compute_eri_block_ri(\u001b[91m::Union{CxxWrap.CxxWrapCore.CxxRef{var\"#s9\"} where var\"#s9\"<:JuliaChem.JERI.TEIEngine, Union{CxxWrap.CxxWrapCore.SmartPointer{T2}, T2} where T2<:JuliaChem.JERI.TEIEngine}\u001b[39m) at /home/jackson/.julia/packages/CxxWrap/OcN1Z/src/CxxWrap.jl:618\n    \u001b[0m  compute_eri_block_ri(\u001b[91m::Union{Ptr{Nothing}, CxxWrap.CxxWrapCore.CxxPtr{var\"#s9\"} where var\"#s9\"<:JuliaChem.JERI.TEIEngine}\u001b[39m) at /home/jackson/.julia/packages/CxxWrap/OcN1Z/src/CxxWrap.jl:618\n    Stacktrace:\n     [1] \u001b[0m\u001b[1mcompute_eris\u001b[22m\n    \u001b[90m   @ \u001b[39m\u001b[90m~/Source/JuliaChem.jl/src/rhf/energy/\u001b[39m\u001b[90;4mSCF.jl:817\u001b[0m\u001b[90m [inlined]\u001b[39m\n     [2] \u001b[0m\u001b[1mfock_build_thread_kernel\u001b[22m\n    \u001b[90m   @ \u001b[39m\u001b[90m~/Source/JuliaChem.jl/src/rhf/energy/\u001b[39m\u001b[90;4mSCF.jl:793\u001b[0m\u001b[90m [inlined]\u001b[39m\n     [3] \u001b[0m\u001b[1mmacro expansion\u001b[22m\n    \u001b[90m   @ \u001b[39m\u001b[90m~/Source/JuliaChem.jl/src/rhf/energy/\u001b[39m\u001b[90;4mSCF.jl:597\u001b[0m\u001b[90m [inlined]\u001b[39m\n     [4] \u001b[0m\u001b[1m(::JuliaChem.JCRHF.Energy.var\"#15#17\"{Vector{Matrix{Float64}}, Matrix{Float64}, Matrix{Float64}, JuliaChem.JCModules.Basis, Matrix{Float64}, Matrix{Float64}, Vector{Vector{Float64}}, Vector{JuliaChem.JERI.TEIEngineAllocated}, Float64, Bool, Int64, Int64})\u001b[22m\u001b[0m\u001b[1m(\u001b[22m\u001b[0m\u001b[1m)\u001b[22m\n    \u001b[90m   @ \u001b[39m\u001b[35mJuliaChem.JCRHF.Energy\u001b[39m \u001b[90m./\u001b[39m\u001b[90;4mthreadingconstructs.jl:169\u001b[0m\n\n...and 11 more exceptions.\n",
     "traceback": [
      "TaskFailedException\n\n\u001b[91m    nested task error: \u001b[39mMethodError: no method matching compute_eri_block_ri()\n    \u001b[0mClosest candidates are:\n    \u001b[0m  compute_eri_block_ri(\u001b[91m::Union{CxxWrap.CxxWrapCore.CxxRef{var\"#s9\"} where var\"#s9\"<:JuliaChem.JERI.TEIEngine, Union{CxxWrap.CxxWrapCore.SmartPointer{T2}, T2} where T2<:JuliaChem.JERI.TEIEngine}\u001b[39m) at /home/jackson/.julia/packages/CxxWrap/OcN1Z/src/CxxWrap.jl:618\n    \u001b[0m  compute_eri_block_ri(\u001b[91m::Union{Ptr{Nothing}, CxxWrap.CxxWrapCore.CxxPtr{var\"#s9\"} where var\"#s9\"<:JuliaChem.JERI.TEIEngine}\u001b[39m) at /home/jackson/.julia/packages/CxxWrap/OcN1Z/src/CxxWrap.jl:618\n    Stacktrace:\n     [1] \u001b[0m\u001b[1mcompute_eris\u001b[22m\n    \u001b[90m   @ \u001b[39m\u001b[90m~/Source/JuliaChem.jl/src/rhf/energy/\u001b[39m\u001b[90;4mSCF.jl:817\u001b[0m\u001b[90m [inlined]\u001b[39m\n     [2] \u001b[0m\u001b[1mfock_build_thread_kernel\u001b[22m\n    \u001b[90m   @ \u001b[39m\u001b[90m~/Source/JuliaChem.jl/src/rhf/energy/\u001b[39m\u001b[90;4mSCF.jl:793\u001b[0m\u001b[90m [inlined]\u001b[39m\n     [3] \u001b[0m\u001b[1mmacro expansion\u001b[22m\n    \u001b[90m   @ \u001b[39m\u001b[90m~/Source/JuliaChem.jl/src/rhf/energy/\u001b[39m\u001b[90;4mSCF.jl:597\u001b[0m\u001b[90m [inlined]\u001b[39m\n     [4] \u001b[0m\u001b[1m(::JuliaChem.JCRHF.Energy.var\"#15#17\"{Vector{Matrix{Float64}}, Matrix{Float64}, Matrix{Float64}, JuliaChem.JCModules.Basis, Matrix{Float64}, Matrix{Float64}, Vector{Vector{Float64}}, Vector{JuliaChem.JERI.TEIEngineAllocated}, Float64, Bool, Int64, Int64})\u001b[22m\u001b[0m\u001b[1m(\u001b[22m\u001b[0m\u001b[1m)\u001b[22m\n    \u001b[90m   @ \u001b[39m\u001b[35mJuliaChem.JCRHF.Energy\u001b[39m \u001b[90m./\u001b[39m\u001b[90;4mthreadingconstructs.jl:169\u001b[0m\n\n...and 11 more exceptions.\n",
      "",
      "Stacktrace:",
      "  [1] sync_end(c::Channel{Any})",
      "    @ Base ./task.jl:369",
      "  [2] macro expansion",
      "    @ ./task.jl:388 [inlined]",
      "  [3] fock_build",
      "    @ ~/Source/JuliaChem.jl/src/rhf/energy/SCF.jl:588 [inlined]",
      "  [4] scf_cycles_kernel(F::Matrix{Float64}, D::Matrix{Float64}, W::Matrix{Float64}, C::Matrix{Float64}, E::Float64, H::Matrix{Float64}, ortho::Matrix{Float64}, S::Matrix{Float64}, E_nuc::Float64, E_elec::Float64, E_old::Float64, basis::JuliaChem.JCModules.Basis, F_array::Vector{Matrix{Float64}}, e_array::Vector{Matrix{Float64}}, e_array_old::Vector{Matrix{Float64}}, F_array_old::Vector{Matrix{Float64}}, F_eval::Vector{Float64}, F_evec::Matrix{Float64}, F_old::Matrix{Float64}, workspace_a::Matrix{Float64}, workspace_b::Matrix{Float64}, workspace_c::Vector{Matrix{Float64}}, ΔF::Matrix{Float64}, F_cumul::Matrix{Float64}, D_old::Matrix{Float64}, ΔD::Matrix{Float64}, D_input::Matrix{Float64}, scf_converged::Bool, FDS::Matrix{Float64}, schwarz_bounds::Matrix{Float64}, Dsh::Matrix{Float64}; output::Int64, debug::Bool, niter::Int64, ndiis::Int64, dele::Float64, rmsd::Float64, load::String, fdiff::Bool)",
      "    @ JuliaChem.JCRHF.Energy ~/Source/JuliaChem.jl/src/rhf/energy/SCF.jl:400",
      "  [5] scf_cycles(F::Matrix{Float64}, D::Matrix{Float64}, W::Matrix{Float64}, C::Matrix{Float64}, E::Float64, H::Matrix{Float64}, ortho::Matrix{Float64}, S::Matrix{Float64}, F_eval::Vector{Float64}, F_evec::Matrix{Float64}, F_old::Matrix{Float64}, workspace_a::Matrix{Float64}, workspace_b::Matrix{Float64}, workspace_c::Vector{Matrix{Float64}}, E_nuc::Float64, E_elec::Float64, E_old::Float64, basis::JuliaChem.JCModules.Basis; output::Int64, debug::Bool, niter::Int64, ndiis::Int64, dele::Float64, rmsd::Float64, load::String, fdiff::Bool)",
      "    @ JuliaChem.JCRHF.Energy ~/Source/JuliaChem.jl/src/rhf/energy/SCF.jl:287",
      "  [6] rhf_kernel(mol::JuliaChem.JCModules.Molecule, basis::JuliaChem.JCModules.Basis; output::Int64, debug::Bool, niter::Int64, guess::String, ndiis::Int64, dele::Float64, rmsd::Float64, load::String, fdiff::Bool)",
      "    @ JuliaChem.JCRHF.Energy ~/Source/JuliaChem.jl/src/rhf/energy/SCF.jl:162",
      "  [7] rhf_energy(mol::JuliaChem.JCModules.Molecule, basis::JuliaChem.JCModules.Basis, scf_flags::Dict{Any, Any}; output::Int64, method::String)",
      "    @ JuliaChem.JCRHF.Energy ~/Source/JuliaChem.jl/src/rhf/energy/SCF.jl:24",
      "  [8] run(mol::JuliaChem.JCModules.Molecule, basis::JuliaChem.JCModules.Basis, scf_flags::Dict{Any, Any}; output::Int64)",
      "    @ JuliaChem.JCRHF.Energy ~/Source/JuliaChem.jl/src/rhf/energy/Energy.jl:52",
      "  [9] top-level scope",
      "    @ In[9]:1",
      " [10] eval",
      "    @ ./boot.jl:360 [inlined]",
      " [11] include_string(mapexpr::typeof(REPL.softscope), mod::Module, code::String, filename::String)",
      "    @ Base ./loading.jl:1094"
     ]
    }
   ],
   "metadata": {
    "scrolled": true
   }
  },
  {
   "cell_type": "code",
   "execution_count": 10,
   "source": [
    "\n",
    "rhf_properties = JuliaChem.JCRHF.Properties.run(mol, basis, rhf_energy, keywords[\"prop\"]; output=2)"
   ],
   "outputs": [
    {
     "output_type": "stream",
     "name": "stdout",
     "text": [
      "--------------------------------------------------------------------------------\n",
      "                       ========================================                 \n",
      "                                RESTRICTED CLOSED-SHELL                         \n",
      "                                HARTREE-FOCK PROPERTIES                         \n",
      "                       ========================================                 \n",
      "\n",
      "----------------------------------------          \n",
      " Computing molecular orbital energies...           \n",
      "----------------------------------------          \n",
      " \n",
      "Orbital #     Orbital energy (h)\n",
      "    1           -20.618393    \n",
      "    2           -20.618368    \n",
      "    3           -20.563063    \n",
      "    4           -11.440550    \n",
      "    5           -11.298192    \n",
      "    6           -11.298188    \n",
      "    7           -11.230291    \n",
      "    8           -11.230289    \n",
      "    9           -1.496854    \n",
      "    10           -1.391222    \n",
      "    11           -1.364165    \n",
      "    12           -1.058661    \n",
      "    13           -1.029968    \n",
      "    14           -0.897116    \n",
      "    15           -0.848929    \n",
      "    16           -0.790909    \n",
      "    17           -0.743844    \n",
      "    18           -0.705136    \n",
      "    19           -0.691559    \n",
      "    20           -0.663082    \n",
      "    21           -0.602176    \n",
      "    22           -0.598731    \n",
      "    23           -0.592379    \n",
      "    24           -0.557947    \n",
      "    25           -0.544211    \n",
      "    26           -0.540351    \n",
      "    27           -0.521397    \n",
      "    28           -0.515908    \n",
      "    29           -0.512630    \n",
      "    30           -0.469505    \n",
      "    31           -0.468041    \n",
      "    32           -0.465260    \n",
      "    33           0.083368    \n",
      "    34           0.086636    \n",
      "    35           0.094504    \n",
      "    36           0.098071    \n",
      "    37           0.102000    \n",
      "    38           0.105405    \n",
      "    39           0.118506    \n",
      "    40           0.132107    \n",
      "    41           0.135844    \n",
      "    42           0.141424    \n",
      "    43           0.141968    \n",
      "    44           0.151094    \n",
      "    45           0.164608    \n",
      "    46           0.183346    \n",
      "    47           0.192165    \n",
      "    48           0.197974    \n",
      "    49           0.210394    \n",
      "    50           0.214689    \n",
      "    51           0.235579    \n",
      "    52           0.264597    \n",
      "    53           0.266876    \n",
      "    54           0.305648    \n",
      "    55           0.308081    \n",
      "    56           0.314445    \n",
      "    57           0.330600    \n",
      "    58           0.348347    \n",
      "    59           0.352290    \n",
      "    60           0.364345    \n",
      "    61           0.366141    \n",
      "    62           0.372351    \n",
      "    63           0.385285    \n",
      "    64           0.386734    \n",
      "    65           0.391296    \n",
      "    66           0.408463    \n",
      "    67           0.412606    \n",
      "    68           0.425691    \n",
      "    69           0.426830    \n",
      "    70           0.434714    \n",
      "    71           0.435113    \n",
      "    72           0.449093    \n",
      "    73           0.463048    \n",
      "    74           0.477412    \n",
      "    75           0.496912    \n",
      "    76           0.521377    \n",
      "    77           0.524846    \n",
      "    78           0.563887    \n",
      "    79           0.588458    \n",
      "    80           0.606168    \n",
      "    81           0.673019    \n",
      "    82           0.723971    \n",
      "    83           0.857494    \n",
      "    84           0.865912    \n",
      "    85           0.874040    \n",
      "    86           0.881466    \n",
      "    87           0.908050    \n",
      "    88           0.937440    \n",
      "    89           0.949966    \n",
      "    90           0.969763    \n",
      "    91           0.982165    \n",
      "    92           0.990067    \n",
      "    93           1.003487    \n",
      "    94           1.053584    \n",
      "    95           1.063016    \n",
      "    96           1.122976    \n",
      "    97           1.170252    \n",
      "    98           1.177246    \n",
      "    99           1.185683    \n",
      "    100           1.200517    \n",
      "    101           1.237789    \n",
      "    102           1.247161    \n",
      "    103           1.258696    \n",
      "    104           1.338359    \n",
      "    105           1.358929    \n",
      "    106           1.366547    \n",
      "    107           1.370114    \n",
      "    108           1.391231    \n",
      "    109           1.414475    \n",
      "    110           1.444485    \n",
      "    111           1.447113    \n",
      "    112           1.449838    \n",
      "    113           1.488485    \n",
      "    114           1.559505    \n",
      "    115           1.572456    \n",
      "    116           1.613775    \n",
      "    117           1.623771    \n",
      "    118           1.626625    \n",
      "    119           1.663902    \n",
      "    120           1.728452    \n",
      "    121           1.747277    \n",
      "    122           1.748206    \n",
      "    123           1.759718    \n",
      "    124           1.812517    \n",
      "    125           1.824079    \n",
      "    126           1.834434    \n",
      "    127           1.969830    \n",
      "    128           1.985475    \n",
      "    129           2.049193    \n",
      "    130           2.080186    \n",
      "    131           2.105673    \n",
      "    132           2.142182    \n",
      "    133           2.148460    \n",
      "    134           2.205445    \n",
      "    135           2.216342    \n",
      "    136           2.263484    \n",
      "    137           2.296364    \n",
      "    138           2.310081    \n",
      "    139           2.315152    \n",
      "    140           2.368259    \n",
      "    141           2.379667    \n",
      "    142           2.391691    \n",
      "    143           2.464534    \n",
      "    144           2.474703    \n",
      "    145           2.509176    \n",
      "    146           2.558637    \n",
      "    147           2.578388    \n",
      "    148           2.636467    \n",
      "    149           2.676909    \n",
      "    150           2.677003    \n",
      "    151           2.696635    \n",
      "    152           2.699852    \n",
      "    153           2.703423    \n",
      "    154           2.869986    \n",
      "    155           2.989980    \n",
      "    156           2.991264    \n",
      "    157           3.080397    \n",
      "    158           3.117143    \n",
      "    159           3.155506    \n",
      "    160           3.189253    \n",
      "    161           3.337271    \n",
      "    162           3.476196    \n",
      "    163           3.594030    \n",
      "    164           3.594820    \n",
      "    165           4.585873    \n",
      "    166           4.699449    \n",
      "    167           4.703412    \n",
      "    168           4.849669    \n",
      "    169           4.893657    \n",
      "    170           4.926418    \n",
      "    171           4.954166    \n",
      "    172           5.017942    \n",
      " \n",
      "----------------------------------------          \n",
      "        Computing HOMO-LUMO gap...                \n",
      "----------------------------------------          \n",
      " \n",
      "The HOMO is located at MO orbital #32, \n",
      "  with an energy of -0.465260 h. \n",
      " \n",
      "The LUMO is located at MO orbital #33, \n",
      "  with an energy of 0.083368 h. \n",
      " \n",
      "HOMO-LUMO gap: 0.548627 h \n",
      " \n",
      "----------------------------------------          \n",
      "     Computing formation energy...                \n",
      "----------------------------------------          \n",
      " \n",
      "Energy of formation: -2.848031 h \n",
      " \n",
      "----------------------------------------          \n",
      "     Computing mulliken charges...                \n",
      "----------------------------------------          \n",
      " \n",
      "Atom #     Symbol       Mulliken Pop.         Charge        \n",
      "  1           O           8.529146          -0.529146     \n",
      "  2           O           8.529143          -0.529143     \n",
      "  3           O           8.577094          -0.577094     \n",
      "  4           C           5.928020          0.071980     \n",
      "  5           C           5.928024          0.071976     \n",
      "  6           C           6.742850          -0.742850     \n",
      "  7           C           6.742855          -0.742855     \n",
      "  8           C           5.104885          0.895115     \n",
      "  9           H           0.791871          0.208129     \n",
      "  10           H           0.791884          0.208116     \n",
      "  11           H           0.791884          0.208116     \n",
      "  12           H           0.791869          0.208131     \n",
      "  13           H           0.794827          0.205173     \n",
      "  14           H           0.790206          0.209794     \n",
      "  15           H           0.790205          0.209795     \n",
      "  16           H           0.794826          0.205174     \n",
      "  17           H           0.790204          0.209796     \n",
      "  18           H           0.790207          0.209793     \n",
      "\n",
      "----------------------------------------          \n",
      "     Computing multiple moments...                \n",
      "----------------------------------------          \n",
      " \n",
      "Dipole:       X           Y           Z         Tot. (D)        \n",
      "          -0.000043   -0.505723    -0.002137    0.505727     \n",
      "\n",
      "                       ========================================                 \n",
      "                              END RESTRICTED CLOSED-SHELL                       \n",
      "                                HARTREE-FOCK PROPERTIES                         \n",
      "                       ========================================                 \n",
      "--------------------------------------------------------------------------------\n"
     ]
    },
    {
     "output_type": "execute_result",
     "data": {
      "text/plain": [
       "Dict{String,Any} with 4 entries:\n",
       "  \"Mulliken Population\" => [8.52915, 8.52914, 8.57709, 5.92802, 5.92802, 6.7428…\n",
       "  \"Formation Energy\"    => -2.84803\n",
       "  \"MO Energies\"         => (energies = [-20.6184 3.30192e-16 … -2.55844e-14 -4.…\n",
       "  \"Dipole\"              => (x = -4.25417e-5, y = -0.505723, z = -0.00213662, mo…"
      ]
     },
     "metadata": {},
     "execution_count": 10
    }
   ],
   "metadata": {}
  },
  {
   "cell_type": "markdown",
   "source": [
    "The final step of running JuliaChem.jl is finalizing the JuliaChem.jl runtime. As with initialization, this is basically present only to finalize the MPI and Libint runtimes."
   ],
   "metadata": {}
  },
  {
   "cell_type": "code",
   "execution_count": 11,
   "source": [
    "JuliaChem.finalize()"
   ],
   "outputs": [],
   "metadata": {}
  },
  {
   "cell_type": "markdown",
   "source": [
    "And there we go! We have run a calculation using JuliaChem.jl!"
   ],
   "metadata": {}
  },
  {
   "cell_type": "code",
   "execution_count": null,
   "source": [],
   "outputs": [],
   "metadata": {}
  },
  {
   "cell_type": "code",
   "execution_count": null,
   "source": [],
   "outputs": [],
   "metadata": {}
  }
 ],
 "metadata": {
  "kernelspec": {
   "display_name": "Julia 1.6.1",
   "language": "julia",
   "name": "julia-1.6"
  },
  "language_info": {
   "file_extension": ".jl",
   "name": "julia",
   "mimetype": "application/julia",
   "version": "1.6.1"
  }
 },
 "nbformat": 4,
 "nbformat_minor": 2
}